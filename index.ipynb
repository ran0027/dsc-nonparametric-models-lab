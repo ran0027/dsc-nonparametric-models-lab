{
 "cells": [
  {
   "cell_type": "markdown",
   "metadata": {},
   "source": [
    "# Nonparametric ML Models - Cumulative Lab\n",
    "\n",
    "## Introduction\n",
    "\n",
    "In this cumulative lab, you will apply two nonparametric models you have just learned — k-nearest neighbors and decision trees — to the forest cover dataset.\n",
    "\n",
    "## Objectives\n",
    "\n",
    "* Practice identifying and applying appropriate preprocessing steps\n",
    "* Perform an iterative modeling process, starting from a baseline model\n",
    "* Explore multiple model algorithms, and tune their hyperparameters\n",
    "* Practice choosing a final model across multiple model algorithms and evaluating its performance"
   ]
  },
  {
   "cell_type": "markdown",
   "metadata": {},
   "source": [
    "## Your Task: Complete an End-to-End ML Process with Nonparametric Models on the Forest Cover Dataset\n",
    "\n",
    "![line of pine trees](images/trees.jpg)\n",
    "\n",
    "Photo by <a href=\"https://unsplash.com/@michaelbenz?utm_source=unsplash&utm_medium=referral&utm_content=creditCopyText\">Michael Benz</a> on <a href=\"/s/photos/forest?utm_source=unsplash&utm_medium=referral&utm_content=creditCopyText\">Unsplash</a>"
   ]
  },
  {
   "cell_type": "markdown",
   "metadata": {},
   "source": [
    "### Business and Data Understanding\n",
    "\n",
    "To repeat the previous description:\n",
    "\n",
    "> Here we will be using an adapted version of the forest cover dataset from the [UCI Machine Learning Repository](https://archive.ics.uci.edu/ml/datasets/covertype). Each record represents a 30 x 30 meter cell of land within Roosevelt National Forest in northern Colorado, which has been labeled as `Cover_Type` 1 for \"Cottonwood/Willow\" and `Cover_Type` 0 for \"Ponderosa Pine\". (The original dataset contained 7 cover types but we have simplified it.)\n",
    "\n",
    "The task is to predict the `Cover_Type` based on the available cartographic variables:"
   ]
  },
  {
   "cell_type": "code",
   "execution_count": 1,
   "metadata": {},
   "outputs": [
    {
     "data": {
      "text/html": [
       "<div>\n",
       "<style scoped>\n",
       "    .dataframe tbody tr th:only-of-type {\n",
       "        vertical-align: middle;\n",
       "    }\n",
       "\n",
       "    .dataframe tbody tr th {\n",
       "        vertical-align: top;\n",
       "    }\n",
       "\n",
       "    .dataframe thead th {\n",
       "        text-align: right;\n",
       "    }\n",
       "</style>\n",
       "<table border=\"1\" class=\"dataframe\">\n",
       "  <thead>\n",
       "    <tr style=\"text-align: right;\">\n",
       "      <th></th>\n",
       "      <th>Elevation</th>\n",
       "      <th>Aspect</th>\n",
       "      <th>Slope</th>\n",
       "      <th>Horizontal_Distance_To_Hydrology</th>\n",
       "      <th>Vertical_Distance_To_Hydrology</th>\n",
       "      <th>Horizontal_Distance_To_Roadways</th>\n",
       "      <th>Hillshade_9am</th>\n",
       "      <th>Hillshade_Noon</th>\n",
       "      <th>Hillshade_3pm</th>\n",
       "      <th>Horizontal_Distance_To_Fire_Points</th>\n",
       "      <th>...</th>\n",
       "      <th>Soil_Type_31</th>\n",
       "      <th>Soil_Type_32</th>\n",
       "      <th>Soil_Type_33</th>\n",
       "      <th>Soil_Type_34</th>\n",
       "      <th>Soil_Type_35</th>\n",
       "      <th>Soil_Type_36</th>\n",
       "      <th>Soil_Type_37</th>\n",
       "      <th>Soil_Type_38</th>\n",
       "      <th>Soil_Type_39</th>\n",
       "      <th>Cover_Type</th>\n",
       "    </tr>\n",
       "  </thead>\n",
       "  <tbody>\n",
       "    <tr>\n",
       "      <th>0</th>\n",
       "      <td>2553</td>\n",
       "      <td>235</td>\n",
       "      <td>17</td>\n",
       "      <td>351</td>\n",
       "      <td>95</td>\n",
       "      <td>780</td>\n",
       "      <td>188</td>\n",
       "      <td>253</td>\n",
       "      <td>199</td>\n",
       "      <td>1410</td>\n",
       "      <td>...</td>\n",
       "      <td>0</td>\n",
       "      <td>0</td>\n",
       "      <td>0</td>\n",
       "      <td>0</td>\n",
       "      <td>0</td>\n",
       "      <td>0</td>\n",
       "      <td>0</td>\n",
       "      <td>0</td>\n",
       "      <td>0</td>\n",
       "      <td>0</td>\n",
       "    </tr>\n",
       "    <tr>\n",
       "      <th>1</th>\n",
       "      <td>2011</td>\n",
       "      <td>344</td>\n",
       "      <td>17</td>\n",
       "      <td>313</td>\n",
       "      <td>29</td>\n",
       "      <td>404</td>\n",
       "      <td>183</td>\n",
       "      <td>211</td>\n",
       "      <td>164</td>\n",
       "      <td>300</td>\n",
       "      <td>...</td>\n",
       "      <td>0</td>\n",
       "      <td>0</td>\n",
       "      <td>0</td>\n",
       "      <td>0</td>\n",
       "      <td>0</td>\n",
       "      <td>0</td>\n",
       "      <td>0</td>\n",
       "      <td>0</td>\n",
       "      <td>0</td>\n",
       "      <td>0</td>\n",
       "    </tr>\n",
       "    <tr>\n",
       "      <th>2</th>\n",
       "      <td>2022</td>\n",
       "      <td>24</td>\n",
       "      <td>13</td>\n",
       "      <td>391</td>\n",
       "      <td>42</td>\n",
       "      <td>509</td>\n",
       "      <td>212</td>\n",
       "      <td>212</td>\n",
       "      <td>134</td>\n",
       "      <td>421</td>\n",
       "      <td>...</td>\n",
       "      <td>0</td>\n",
       "      <td>0</td>\n",
       "      <td>0</td>\n",
       "      <td>0</td>\n",
       "      <td>0</td>\n",
       "      <td>0</td>\n",
       "      <td>0</td>\n",
       "      <td>0</td>\n",
       "      <td>0</td>\n",
       "      <td>0</td>\n",
       "    </tr>\n",
       "    <tr>\n",
       "      <th>3</th>\n",
       "      <td>2038</td>\n",
       "      <td>50</td>\n",
       "      <td>17</td>\n",
       "      <td>408</td>\n",
       "      <td>71</td>\n",
       "      <td>474</td>\n",
       "      <td>226</td>\n",
       "      <td>200</td>\n",
       "      <td>102</td>\n",
       "      <td>283</td>\n",
       "      <td>...</td>\n",
       "      <td>0</td>\n",
       "      <td>0</td>\n",
       "      <td>0</td>\n",
       "      <td>0</td>\n",
       "      <td>0</td>\n",
       "      <td>0</td>\n",
       "      <td>0</td>\n",
       "      <td>0</td>\n",
       "      <td>0</td>\n",
       "      <td>0</td>\n",
       "    </tr>\n",
       "    <tr>\n",
       "      <th>4</th>\n",
       "      <td>2018</td>\n",
       "      <td>341</td>\n",
       "      <td>27</td>\n",
       "      <td>351</td>\n",
       "      <td>34</td>\n",
       "      <td>390</td>\n",
       "      <td>152</td>\n",
       "      <td>188</td>\n",
       "      <td>168</td>\n",
       "      <td>190</td>\n",
       "      <td>...</td>\n",
       "      <td>0</td>\n",
       "      <td>0</td>\n",
       "      <td>0</td>\n",
       "      <td>0</td>\n",
       "      <td>0</td>\n",
       "      <td>0</td>\n",
       "      <td>0</td>\n",
       "      <td>0</td>\n",
       "      <td>0</td>\n",
       "      <td>0</td>\n",
       "    </tr>\n",
       "    <tr>\n",
       "      <th>...</th>\n",
       "      <td>...</td>\n",
       "      <td>...</td>\n",
       "      <td>...</td>\n",
       "      <td>...</td>\n",
       "      <td>...</td>\n",
       "      <td>...</td>\n",
       "      <td>...</td>\n",
       "      <td>...</td>\n",
       "      <td>...</td>\n",
       "      <td>...</td>\n",
       "      <td>...</td>\n",
       "      <td>...</td>\n",
       "      <td>...</td>\n",
       "      <td>...</td>\n",
       "      <td>...</td>\n",
       "      <td>...</td>\n",
       "      <td>...</td>\n",
       "      <td>...</td>\n",
       "      <td>...</td>\n",
       "      <td>...</td>\n",
       "      <td>...</td>\n",
       "    </tr>\n",
       "    <tr>\n",
       "      <th>38496</th>\n",
       "      <td>2396</td>\n",
       "      <td>153</td>\n",
       "      <td>20</td>\n",
       "      <td>85</td>\n",
       "      <td>17</td>\n",
       "      <td>108</td>\n",
       "      <td>240</td>\n",
       "      <td>237</td>\n",
       "      <td>118</td>\n",
       "      <td>837</td>\n",
       "      <td>...</td>\n",
       "      <td>0</td>\n",
       "      <td>0</td>\n",
       "      <td>0</td>\n",
       "      <td>0</td>\n",
       "      <td>0</td>\n",
       "      <td>0</td>\n",
       "      <td>0</td>\n",
       "      <td>0</td>\n",
       "      <td>0</td>\n",
       "      <td>0</td>\n",
       "    </tr>\n",
       "    <tr>\n",
       "      <th>38497</th>\n",
       "      <td>2391</td>\n",
       "      <td>152</td>\n",
       "      <td>19</td>\n",
       "      <td>67</td>\n",
       "      <td>12</td>\n",
       "      <td>95</td>\n",
       "      <td>240</td>\n",
       "      <td>237</td>\n",
       "      <td>119</td>\n",
       "      <td>845</td>\n",
       "      <td>...</td>\n",
       "      <td>0</td>\n",
       "      <td>0</td>\n",
       "      <td>0</td>\n",
       "      <td>0</td>\n",
       "      <td>0</td>\n",
       "      <td>0</td>\n",
       "      <td>0</td>\n",
       "      <td>0</td>\n",
       "      <td>0</td>\n",
       "      <td>0</td>\n",
       "    </tr>\n",
       "    <tr>\n",
       "      <th>38498</th>\n",
       "      <td>2386</td>\n",
       "      <td>159</td>\n",
       "      <td>17</td>\n",
       "      <td>60</td>\n",
       "      <td>7</td>\n",
       "      <td>90</td>\n",
       "      <td>236</td>\n",
       "      <td>241</td>\n",
       "      <td>130</td>\n",
       "      <td>854</td>\n",
       "      <td>...</td>\n",
       "      <td>0</td>\n",
       "      <td>0</td>\n",
       "      <td>0</td>\n",
       "      <td>0</td>\n",
       "      <td>0</td>\n",
       "      <td>0</td>\n",
       "      <td>0</td>\n",
       "      <td>0</td>\n",
       "      <td>0</td>\n",
       "      <td>0</td>\n",
       "    </tr>\n",
       "    <tr>\n",
       "      <th>38499</th>\n",
       "      <td>2384</td>\n",
       "      <td>170</td>\n",
       "      <td>15</td>\n",
       "      <td>60</td>\n",
       "      <td>5</td>\n",
       "      <td>90</td>\n",
       "      <td>230</td>\n",
       "      <td>245</td>\n",
       "      <td>143</td>\n",
       "      <td>864</td>\n",
       "      <td>...</td>\n",
       "      <td>0</td>\n",
       "      <td>0</td>\n",
       "      <td>0</td>\n",
       "      <td>0</td>\n",
       "      <td>0</td>\n",
       "      <td>0</td>\n",
       "      <td>0</td>\n",
       "      <td>0</td>\n",
       "      <td>0</td>\n",
       "      <td>0</td>\n",
       "    </tr>\n",
       "    <tr>\n",
       "      <th>38500</th>\n",
       "      <td>2383</td>\n",
       "      <td>165</td>\n",
       "      <td>13</td>\n",
       "      <td>60</td>\n",
       "      <td>4</td>\n",
       "      <td>67</td>\n",
       "      <td>231</td>\n",
       "      <td>244</td>\n",
       "      <td>141</td>\n",
       "      <td>875</td>\n",
       "      <td>...</td>\n",
       "      <td>0</td>\n",
       "      <td>0</td>\n",
       "      <td>0</td>\n",
       "      <td>0</td>\n",
       "      <td>0</td>\n",
       "      <td>0</td>\n",
       "      <td>0</td>\n",
       "      <td>0</td>\n",
       "      <td>0</td>\n",
       "      <td>0</td>\n",
       "    </tr>\n",
       "  </tbody>\n",
       "</table>\n",
       "<p>38501 rows × 53 columns</p>\n",
       "</div>"
      ],
      "text/plain": [
       "       Elevation  Aspect  Slope  Horizontal_Distance_To_Hydrology  \\\n",
       "0           2553     235     17                               351   \n",
       "1           2011     344     17                               313   \n",
       "2           2022      24     13                               391   \n",
       "3           2038      50     17                               408   \n",
       "4           2018     341     27                               351   \n",
       "...          ...     ...    ...                               ...   \n",
       "38496       2396     153     20                                85   \n",
       "38497       2391     152     19                                67   \n",
       "38498       2386     159     17                                60   \n",
       "38499       2384     170     15                                60   \n",
       "38500       2383     165     13                                60   \n",
       "\n",
       "       Vertical_Distance_To_Hydrology  Horizontal_Distance_To_Roadways  \\\n",
       "0                                  95                              780   \n",
       "1                                  29                              404   \n",
       "2                                  42                              509   \n",
       "3                                  71                              474   \n",
       "4                                  34                              390   \n",
       "...                               ...                              ...   \n",
       "38496                              17                              108   \n",
       "38497                              12                               95   \n",
       "38498                               7                               90   \n",
       "38499                               5                               90   \n",
       "38500                               4                               67   \n",
       "\n",
       "       Hillshade_9am  Hillshade_Noon  Hillshade_3pm  \\\n",
       "0                188             253            199   \n",
       "1                183             211            164   \n",
       "2                212             212            134   \n",
       "3                226             200            102   \n",
       "4                152             188            168   \n",
       "...              ...             ...            ...   \n",
       "38496            240             237            118   \n",
       "38497            240             237            119   \n",
       "38498            236             241            130   \n",
       "38499            230             245            143   \n",
       "38500            231             244            141   \n",
       "\n",
       "       Horizontal_Distance_To_Fire_Points  ...  Soil_Type_31  Soil_Type_32  \\\n",
       "0                                    1410  ...             0             0   \n",
       "1                                     300  ...             0             0   \n",
       "2                                     421  ...             0             0   \n",
       "3                                     283  ...             0             0   \n",
       "4                                     190  ...             0             0   \n",
       "...                                   ...  ...           ...           ...   \n",
       "38496                                 837  ...             0             0   \n",
       "38497                                 845  ...             0             0   \n",
       "38498                                 854  ...             0             0   \n",
       "38499                                 864  ...             0             0   \n",
       "38500                                 875  ...             0             0   \n",
       "\n",
       "       Soil_Type_33  Soil_Type_34  Soil_Type_35  Soil_Type_36  Soil_Type_37  \\\n",
       "0                 0             0             0             0             0   \n",
       "1                 0             0             0             0             0   \n",
       "2                 0             0             0             0             0   \n",
       "3                 0             0             0             0             0   \n",
       "4                 0             0             0             0             0   \n",
       "...             ...           ...           ...           ...           ...   \n",
       "38496             0             0             0             0             0   \n",
       "38497             0             0             0             0             0   \n",
       "38498             0             0             0             0             0   \n",
       "38499             0             0             0             0             0   \n",
       "38500             0             0             0             0             0   \n",
       "\n",
       "       Soil_Type_38  Soil_Type_39  Cover_Type  \n",
       "0                 0             0           0  \n",
       "1                 0             0           0  \n",
       "2                 0             0           0  \n",
       "3                 0             0           0  \n",
       "4                 0             0           0  \n",
       "...             ...           ...         ...  \n",
       "38496             0             0           0  \n",
       "38497             0             0           0  \n",
       "38498             0             0           0  \n",
       "38499             0             0           0  \n",
       "38500             0             0           0  \n",
       "\n",
       "[38501 rows x 53 columns]"
      ]
     },
     "execution_count": 1,
     "metadata": {},
     "output_type": "execute_result"
    }
   ],
   "source": [
    "# Run this cell without changes\n",
    "import pandas as pd\n",
    "\n",
    "df = pd.read_csv('data/forest_cover.csv')\n",
    "df"
   ]
  },
  {
   "cell_type": "markdown",
   "metadata": {},
   "source": [
    "> As you can see, we have over 38,000 rows, each with 52 feature columns and 1 target column:\n",
    "\n",
    "> * `Elevation`: Elevation in meters\n",
    "> * `Aspect`: Aspect in degrees azimuth\n",
    "> * `Slope`: Slope in degrees\n",
    "> * `Horizontal_Distance_To_Hydrology`: Horizontal dist to nearest surface water features in meters\n",
    "> * `Vertical_Distance_To_Hydrology`: Vertical dist to nearest surface water features in meters\n",
    "> * `Horizontal_Distance_To_Roadways`: Horizontal dist to nearest roadway in meters\n",
    "> * `Hillshade_9am`: Hillshade index at 9am, summer solstice\n",
    "> * `Hillshade_Noon`: Hillshade index at noon, summer solstice\n",
    "> * `Hillshade_3pm`: Hillshade index at 3pm, summer solstice\n",
    "> * `Horizontal_Distance_To_Fire_Points`: Horizontal dist to nearest wildfire ignition points, meters\n",
    "> * `Wilderness_Area_x`: Wilderness area designation (3 columns)\n",
    "> * `Soil_Type_x`: Soil Type designation (39 columns)\n",
    "> * `Cover_Type`: 1 for cottonwood/willow, 0 for ponderosa pine\n",
    "\n",
    "This is also an imbalanced dataset, since cottonwood/willow trees are relatively rare in this forest:"
   ]
  },
  {
   "cell_type": "code",
   "execution_count": 2,
   "metadata": {},
   "outputs": [
    {
     "name": "stdout",
     "output_type": "stream",
     "text": [
      "Raw Counts\n",
      "0    35754\n",
      "1     2747\n",
      "Name: Cover_Type, dtype: int64\n",
      "\n",
      "Percentages\n",
      "0    0.928651\n",
      "1    0.071349\n",
      "Name: Cover_Type, dtype: float64\n"
     ]
    }
   ],
   "source": [
    "# Run this cell without changes\n",
    "print(\"Raw Counts\")\n",
    "print(df[\"Cover_Type\"].value_counts())\n",
    "print()\n",
    "print(\"Percentages\")\n",
    "print(df[\"Cover_Type\"].value_counts(normalize=True))"
   ]
  },
  {
   "cell_type": "markdown",
   "metadata": {},
   "source": [
    "Thus, a baseline model that always chose the majority class would have an accuracy of over 92%. Therefore we will want to report additional metrics at the end."
   ]
  },
  {
   "cell_type": "markdown",
   "metadata": {},
   "source": [
    "### Previous Best Model\n",
    "\n",
    "In a previous lab, we used SMOTE to create additional synthetic data, then tuned the hyperparameters of a logistic regression model to get the following final model metrics:\n",
    "\n",
    "* **Log loss:** 0.13031294393913376\n",
    "* **Accuracy:** 0.9456679825472678\n",
    "* **Precision:** 0.6659919028340081\n",
    "* **Recall:** 0.47889374090247455\n",
    "\n",
    "In this lab, you will try to beat those scores using more-complex, nonparametric models.\n",
    "\n",
    "### Modeling\n",
    "\n",
    "Although you may be aware of some additional model algorithms available from scikit-learn, for this lab you will be focusing on two of them: k-nearest neighbors and decision trees. Here are some reminders about these models:\n",
    "\n",
    "#### kNN - [documentation here](https://scikit-learn.org/stable/modules/generated/sklearn.neighbors.KNeighborsClassifier.html)\n",
    "\n",
    "This algorithm — unlike linear models or tree-based models — does not emphasize learning the relationship between the features and the target. Instead, for a given test record, it finds the most similar records in the training set and returns an average of their target values.\n",
    "\n",
    "* **Training speed:** Fast. In theory it's just saving the training data for later, although the scikit-learn implementation has some additional logic \"under the hood\" to make prediction faster.\n",
    "* **Prediction speed:** Very slow. The model has to look at every record in the training set to find the k closest to the new record.\n",
    "* **Requires scaling:** Yes. The algorithm to find the nearest records is distance-based, so it matters that distances are all on the same scale.\n",
    "* **Key hyperparameters:** `n_neighbors` (how many nearest neighbors to find; too few neighbors leads to overfitting, too many leads to underfitting), `p` and `metric` (what kind of distance to use in defining \"nearest\" neighbors)\n",
    "\n",
    "#### Decision Trees - [documentation here](https://scikit-learn.org/stable/modules/generated/sklearn.tree.DecisionTreeClassifier.html)\n",
    "\n",
    "Similar to linear models (and unlike kNN), this algorithm emphasizes learning the relationship between the features and the target. However, unlike a linear model that tries to find linear relationships between each of the features and the target, decision trees look for ways to split the data based on features to decrease the entropy of the target in each split.\n",
    "\n",
    "* **Training speed:** Slow. The model is considering splits based on as many as all of the available features, and it can split on the same feature multiple times. This requires exponential computational time that increases based on the number of columns as well as the number of rows.\n",
    "* **Prediction speed:** Medium fast. Producing a prediction with a decision tree means applying several conditional statements, which is slower than something like logistic regression but faster than kNN.\n",
    "* **Requires scaling:** No. This model is not distance-based. You also can use a `LabelEncoder` rather than `OneHotEncoder` for categorical data, since this algorithm doesn't necessarily assume that the distance between `1` and `2` is the same as the distance between `2` and `3`.\n",
    "* **Key hyperparameters:** Many features relating to \"pruning\" the tree. By default they are set so the tree can overfit, and by setting them higher or lower (depending on the hyperparameter) you can reduce overfitting, but too much will lead to underfitting. These are: `max_depth`, `min_samples_split`, `min_samples_leaf`, `min_weight_fraction_leaf`, `max_features`, `max_leaf_nodes`, and `min_impurity_decrease`. You can also try changing the `criterion` to \"entropy\" or the `splitter` to \"random\" if you want to change the splitting logic."
   ]
  },
  {
   "cell_type": "markdown",
   "metadata": {},
   "source": [
    "### Requirements\n",
    "\n",
    "#### 1. Prepare the Data for Modeling\n",
    "\n",
    "#### 2. Build a Baseline kNN Model\n",
    "\n",
    "#### 3. Build Iterative Models to Find the Best kNN Model\n",
    "\n",
    "#### 4. Build a Baseline Decision Tree Model\n",
    "\n",
    "#### 5. Build Iterative Models to Find the Best Decision Tree Model\n",
    "\n",
    "#### 6. Choose and Evaluate an Overall Best Model"
   ]
  },
  {
   "cell_type": "markdown",
   "metadata": {},
   "source": [
    "## 1. Prepare the Data for Modeling\n",
    "\n",
    "The target is `Cover_Type`. In the cell below, split `df` into `X` and `y`, then perform a train-test split with `random_state=42` and `stratify=y` to create variables with the standard `X_train`, `X_test`, `y_train`, `y_test` names.\n",
    "\n",
    "Include the relevant imports as you go."
   ]
  },
  {
   "cell_type": "code",
   "execution_count": 4,
   "metadata": {},
   "outputs": [],
   "source": [
    "# Your code here\n",
    "# split data into target y and features X\n",
    "y = df['Cover_Type'].copy()\n",
    "X = df.drop(['Cover_Type'], axis = 1).copy() # I don't think copy is necessary here\n",
    "\n",
    "# import package for train test split\n",
    "from sklearn.model_selection import train_test_split\n",
    "\n",
    "# perform train-test split; stratify along y because cottonwood/willow is rare\n",
    "X_train, X_test, y_train, y_test = train_test_split(X, y, random_state = 42, stratify = y)"
   ]
  },
  {
   "cell_type": "markdown",
   "metadata": {},
   "source": [
    "Now, instantiate a `StandardScaler`, fit it on `X_train`, and create new variables `X_train_scaled` and `X_test_scaled` containing values transformed with the scaler."
   ]
  },
  {
   "cell_type": "code",
   "execution_count": 5,
   "metadata": {},
   "outputs": [],
   "source": [
    "# Your code here\n",
    "# import standard scaler to normalize features; kNN is distance based\n",
    "from sklearn.preprocessing import StandardScaler\n",
    "\n",
    "# instantiate and fit standard scaler\n",
    "ss = StandardScaler()\n",
    "X_train_scaled = ss.fit_transform(X_train)\n",
    "\n",
    "# transform test data with scaler fit to training data\n",
    "X_test_scaled = ss.transform(X_test)"
   ]
  },
  {
   "cell_type": "markdown",
   "metadata": {},
   "source": [
    "The following code checks that everything is set up correctly:"
   ]
  },
  {
   "cell_type": "code",
   "execution_count": 6,
   "metadata": {},
   "outputs": [],
   "source": [
    "# Run this cell without changes\n",
    "\n",
    "# Checking that df was separated into correct X and y\n",
    "assert type(X) == pd.DataFrame and X.shape == (38501, 52)\n",
    "assert type(y) == pd.Series and y.shape == (38501,)\n",
    "\n",
    "# Checking the train-test split\n",
    "assert type(X_train) == pd.DataFrame and X_train.shape == (28875, 52)\n",
    "assert type(X_test) == pd.DataFrame and X_test.shape == (9626, 52)\n",
    "assert type(y_train) == pd.Series and y_train.shape == (28875,)\n",
    "assert type(y_test) == pd.Series and y_test.shape == (9626,)\n",
    "\n",
    "# Checking the scaling\n",
    "assert X_train_scaled.shape == X_train.shape\n",
    "assert round(X_train_scaled[0][0], 3) == -0.636\n",
    "assert X_test_scaled.shape == X_test.shape\n",
    "assert round(X_test_scaled[0][0], 3) == -1.370"
   ]
  },
  {
   "cell_type": "markdown",
   "metadata": {},
   "source": [
    "## 2. Build a Baseline kNN Model\n",
    "\n",
    "Build a scikit-learn kNN model with default hyperparameters. Then use `cross_val_score` with `scoring=\"neg_log_loss\"` to find the mean log loss for this model (passing in `X_train_scaled` and `y_train` to `cross_val_score`). You'll need to find the mean of the cross-validated scores, and negate the value (either put a `-` at the beginning or multiply by `-1`) so that your answer is a log loss rather than a negative log loss.\n",
    "\n",
    "Call the resulting score `knn_baseline_log_loss`.\n",
    "\n",
    "Your code might take a minute or more to run."
   ]
  },
  {
   "cell_type": "code",
   "execution_count": 10,
   "metadata": {},
   "outputs": [
    {
     "data": {
      "text/plain": [
       "0.1255288892455634"
      ]
     },
     "execution_count": 10,
     "metadata": {},
     "output_type": "execute_result"
    }
   ],
   "source": [
    "# Replace None with appropriate code\n",
    "\n",
    "# Relevant imports\n",
    "from sklearn.model_selection import cross_val_score\n",
    "from sklearn.neighbors import KNeighborsClassifier\n",
    "\n",
    "# Creating the model\n",
    "knn_baseline_model = KNeighborsClassifier()\n",
    "\n",
    "# Perform cross-validation\n",
    "knn_baseline_log_loss = -1*cross_val_score(knn_baseline_model, X_train_scaled, y_train,\n",
    "                                       scoring = 'neg_log_loss').mean()\n",
    "\n",
    "knn_baseline_log_loss"
   ]
  },
  {
   "cell_type": "markdown",
   "metadata": {},
   "source": [
    "Our best logistic regression model had a log loss of 0.13031294393913376\n",
    "\n",
    "Is this model better? Compare it in terms of metrics and speed."
   ]
  },
  {
   "cell_type": "code",
   "execution_count": 11,
   "metadata": {},
   "outputs": [
    {
     "data": {
      "text/plain": [
       "'\\nThis model is better than our logistic regression model in that it has a lower log loss, so\\nless \"error\" in its predictions. It is pretty slow to fit and evaluate this model. I don\\'t\\nremember how long the logistic regression model took, but I think that it was faster (which\\nmakes sense because kNN has to do a lot of work everytime it makes a prediction.) But it is\\nbearably slow.\\n'"
      ]
     },
     "execution_count": 11,
     "metadata": {},
     "output_type": "execute_result"
    }
   ],
   "source": [
    "# Replace None with appropriate text\n",
    "\"\"\"\n",
    "This model is better than our logistic regression model in that it has a lower log loss, so\n",
    "less \"error\" in its predictions. It is pretty slow to fit and evaluate this model. I don't\n",
    "remember how long the logistic regression model took, but I think that it was faster (which\n",
    "makes sense because kNN has to do a lot of work everytime it makes a prediction.) But it is\n",
    "bearably slow.\n",
    "\"\"\""
   ]
  },
  {
   "cell_type": "markdown",
   "metadata": {},
   "source": [
    "## 3. Build Iterative Models to Find the Best kNN Model\n",
    "\n",
    "Build and evaluate at least two more kNN models to find the best one. Explain why you are changing the hyperparameters you are changing as you go. These models will be *slow* to run, so be thinking about what you might try next as you run them."
   ]
  },
  {
   "cell_type": "markdown",
   "metadata": {},
   "source": [
    "### Adjust Number of Neighbors"
   ]
  },
  {
   "cell_type": "code",
   "execution_count": 63,
   "metadata": {},
   "outputs": [
    {
     "data": {
      "text/plain": [
       "[0.49521049185151506,\n",
       " 0.17451432403739855,\n",
       " 0.1255288892455634,\n",
       " 0.0895925912090358,\n",
       " 0.07966757716809988,\n",
       " 0.07273052026135858,\n",
       " 0.06972901169429604,\n",
       " 0.06722997851589525,\n",
       " 0.06376302967813,\n",
       " 0.0633161801415997]"
      ]
     },
     "execution_count": 63,
     "metadata": {},
     "output_type": "execute_result"
    }
   ],
   "source": [
    "# Your code here (add more cells as needed)\n",
    "''' Let's try changing the number of neighbors. We will do a loop from 1 to 20 (odds only.)'''\n",
    "\n",
    "# make a list of k-values to try\n",
    "k_values = list(range(1, 20, 2))\n",
    "# make corresponding labels in case needed\n",
    "k_value_labels = [f'k = {k}' for k in k_values]\n",
    "# make a list to hold log loss for each iteration of the model\n",
    "log_losses = []\n",
    "\n",
    "for k in k_values:\n",
    "    # fit knn model with k neighbors to training data\n",
    "    knn_more_or_less_neighbors = KNeighborsClassifier(n_neighbors = k)\n",
    "    \n",
    "    # calculate mean log loss over all train-test splits performed by cross_val_score\n",
    "    knn_more_or_less_neighbors_log_loss = -1*cross_val_score(knn_more_or_less_neighbors,\n",
    "                                                             X_train_scaled,\n",
    "                                                             y_train,\n",
    "                                                             scoring = 'neg_log_loss').mean()\n",
    "    # append resulting mean log loss to log_losses list\n",
    "    log_losses.append(knn_more_or_less_neighbors_log_loss)\n",
    "    \n",
    "log_losses"
   ]
  },
  {
   "cell_type": "code",
   "execution_count": 20,
   "metadata": {},
   "outputs": [
    {
     "data": {
      "image/png": "[encoded data removed]",
      "text/plain": [
       "<Figure size 432x288 with 1 Axes>"
      ]
     },
     "metadata": {
      "needs_background": "light"
     },
     "output_type": "display_data"
    }
   ],
   "source": [
    "# Visualize results of above model iteration\n",
    "# I needed to make this cell separate so that I didn't have to recompute mean log losses =)\n",
    "\n",
    "# import packages for visualization\n",
    "import matplotlib.pyplot as plt\n",
    "\n",
    "# set up a figure and axes for graph\n",
    "fig, ax = plt.subplots()\n",
    "\n",
    "# for each k-value, plot a point (k-value, log loss), and put label 'k = k' in legend\n",
    "for index, k in enumerate(k_values):\n",
    "    plt.scatter(k, log_losses[index], marker = 'o', label = k_value_labels[index])\n",
    "\n",
    "# then plot a curve through all of the points; make it slightly transparent\n",
    "plt.plot(k_values, log_losses, alpha = 0.5)\n",
    "\n",
    "# show legend\n",
    "ax.legend()\n",
    "\n",
    "# add x- and y- axis labels, and a title, to the graph\n",
    "ax.set(title = 'Mean Log Loss by Number of Neighbors', xlabel = 'Number of Neighbors',\n",
    "      ylabel = 'Mean Log Loss from Cross Validation');"
   ]
  },
  {
   "cell_type": "markdown",
   "metadata": {},
   "source": [
    "This is an interesting result! The log loss keeps decreasing as I increase the number of neigbors. Let's see the mean log loss for each k-value."
   ]
  },
  {
   "cell_type": "code",
   "execution_count": 21,
   "metadata": {},
   "outputs": [
    {
     "data": {
      "text/plain": [
       "[0.49521049185151506,\n",
       " 0.17451432403739855,\n",
       " 0.1255288892455634,\n",
       " 0.0895925912090358,\n",
       " 0.07966757716809988,\n",
       " 0.07273052026135858,\n",
       " 0.06972901169429604,\n",
       " 0.06722997851589525,\n",
       " 0.06376302967813,\n",
       " 0.0633161801415997]"
      ]
     },
     "execution_count": 21,
     "metadata": {},
     "output_type": "execute_result"
    }
   ],
   "source": [
    "log_losses"
   ]
  },
  {
   "cell_type": "code",
   "execution_count": 22,
   "metadata": {},
   "outputs": [
    {
     "name": "stdout",
     "output_type": "stream",
     "text": [
      "The percent decrease in mean log loss from 17 to 19 neighbors is: -0.007007972155431566\n"
     ]
    }
   ],
   "source": [
    "# the percent change from k = 17 log loss to k = 19 log loss is:\n",
    "improvement = (log_losses[-1] - log_losses[-2]) / log_losses[-2]\n",
    "print(f'The percent decrease in mean log loss from 17 to 19 neighbors is: {improvement}')"
   ]
  },
  {
   "cell_type": "markdown",
   "metadata": {},
   "source": [
    "Because the percent decrease in log loss is so small (less than 1%) and it takes so long to make predictions with a kNN model, I think I might leave the number of neighbors at 19 for now."
   ]
  },
  {
   "cell_type": "markdown",
   "metadata": {},
   "source": [
    "### Change Distance Metric"
   ]
  },
  {
   "cell_type": "code",
   "execution_count": 23,
   "metadata": {},
   "outputs": [
    {
     "name": "stdout",
     "output_type": "stream",
     "text": [
      "0.1144531688354272\n"
     ]
    }
   ],
   "source": [
    "'''For the next iteration, let's try changing the distance metric to Manhattan distance.'''\n",
    "\n",
    "# instantiate model with p = 1, but all other parameters at default; we will experiment with\n",
    "# number of neighbors again next\n",
    "knn_manhattan_dist = KNeighborsClassifier(p = 1)\n",
    "\n",
    "# fit to training data\n",
    "knn_manhattan_dist.fit(X_train_scaled, y_train)\n",
    "\n",
    "# cross-validate!\n",
    "knn_manhattan_dist_log_loss = -1*cross_val_score(knn_manhattan_dist,\n",
    "                                                 X_train_scaled,\n",
    "                                                 y_train,\n",
    "                                                scoring = 'neg_log_loss').mean()\n",
    "\n",
    "print(knn_manhattan_dist_log_loss)"
   ]
  },
  {
   "cell_type": "markdown",
   "metadata": {},
   "source": [
    "The log-loss is a little bit better with Manhattan distance than with the default Euclidean distance. Let's now try Manhattan distance with different numbers of neighbors and see what results we det."
   ]
  },
  {
   "cell_type": "markdown",
   "metadata": {},
   "source": [
    "### Revisit Number of Neighbors with New Distance Metric"
   ]
  },
  {
   "cell_type": "code",
   "execution_count": 24,
   "metadata": {},
   "outputs": [
    {
     "data": {
      "text/plain": [
       "[0.5119568975553388,\n",
       " 0.16370780348980501,\n",
       " 0.1144531688354272,\n",
       " 0.08441299087246057,\n",
       " 0.06374575533465694,\n",
       " 0.06172556244896841,\n",
       " 0.0630702704169221,\n",
       " 0.061714464254211454,\n",
       " 0.060419917049137906,\n",
       " 0.061214951514946325]"
      ]
     },
     "execution_count": 24,
     "metadata": {},
     "output_type": "execute_result"
    }
   ],
   "source": [
    "# Repeat code from above to try out different numbers of neighbors, but change p to 1\n",
    "\n",
    "# list of k-values to try\n",
    "k_values = list(range(1, 20, 2))\n",
    "# corresponding labels for plotting\n",
    "k_value_labels = [f'k = {k}' for k in k_values]\n",
    "# make a list to hold log loss for each iteration of the model\n",
    "log_losses = []\n",
    "\n",
    "for k in k_values:\n",
    "    # fit knn model with k neighbors to training data; set p = 1 for Manhattan distance\n",
    "    knn_more_or_less_neighbors_p1 = KNeighborsClassifier(n_neighbors = k, p = 1)\n",
    "    \n",
    "    # calculate mean log loss over all train-test splits performed by cross_val_score\n",
    "    knn_more_or_less_neighbors_p1_log_loss = -1*cross_val_score(knn_more_or_less_neighbors_p1,\n",
    "                                                             X_train_scaled,\n",
    "                                                             y_train,\n",
    "                                                             scoring = 'neg_log_loss').mean()\n",
    "    # append resulting mean log loss to log_losses list\n",
    "    log_losses.append(knn_more_or_less_neighbors_p1_log_loss)\n",
    "    \n",
    "log_losses"
   ]
  },
  {
   "cell_type": "code",
   "execution_count": 25,
   "metadata": {},
   "outputs": [
    {
     "data": {
      "image/png": "[encoded data removed]",
      "text/plain": [
       "<Figure size 432x288 with 1 Axes>"
      ]
     },
     "metadata": {
      "needs_background": "light"
     },
     "output_type": "display_data"
    }
   ],
   "source": [
    "# Visualize results of above model iteration\n",
    "\n",
    "# set up a figure and axes for graph\n",
    "fig, ax = plt.subplots()\n",
    "\n",
    "# for each k-value, plot a point (k-value, log loss), and put label 'k = k' in legend\n",
    "for index, k in enumerate(k_values):\n",
    "    plt.scatter(k, log_losses[index], marker = 'o', label = k_value_labels[index])\n",
    "\n",
    "# then plot a curve through all of the points; make it slightly transparent\n",
    "plt.plot(k_values, log_losses, alpha = 0.5)\n",
    "\n",
    "# show legend\n",
    "ax.legend()\n",
    "\n",
    "# add x- and y- axis labels, and a title, to the graph\n",
    "ax.set(title = 'Mean Log Loss by Number of Neighbors with p = 1',\n",
    "       xlabel = 'Number of Neighbors',\n",
    "      ylabel = 'Mean Log Loss from Cross Validation');"
   ]
  },
  {
   "cell_type": "markdown",
   "metadata": {},
   "source": [
    "Well, the difference between p = 1 and p = 2 with 19 neighbors is minimal, but the Manhattan distance model came out slightly on top."
   ]
  },
  {
   "cell_type": "markdown",
   "metadata": {},
   "source": [
    "If I have time, I want to iterate over a few more values for k (the number of neighbors) to see if there is an even higher number of neighbors that works better, or if k = 19 results in the minimal log loss. For now, I will say that the Manhattan distance model with k = 19 is the best."
   ]
  },
  {
   "cell_type": "code",
   "execution_count": 61,
   "metadata": {},
   "outputs": [
    {
     "data": {
      "text/plain": [
       "[0.060419917049137906,\n",
       " 0.061214951514946325,\n",
       " 0.061980892331987184,\n",
       " 0.063630723250797,\n",
       " 0.06519186918054885,\n",
       " 0.06659189026114101,\n",
       " 0.06699365809376268]"
      ]
     },
     "execution_count": 61,
     "metadata": {},
     "output_type": "execute_result"
    }
   ],
   "source": [
    "# iterate over values of k from 17 to 30 (odds only) to see if there is an even better k...\n",
    "\n",
    "# list of k-values to try\n",
    "k_values2 = list(range(17, 30, 2))\n",
    "# corresponding labels for plotting\n",
    "k_value_labels = [f'k = {k}' for k in k_values]\n",
    "# make a list to hold log loss for each iteration of the model\n",
    "log_losses = []\n",
    "\n",
    "for k in k_values2:\n",
    "    # fit knn model with k neighbors to training data; set p = 1 for Manhattan distance\n",
    "    knn_neighbors_p1 = KNeighborsClassifier(n_neighbors = k, p = 1)\n",
    "    \n",
    "    # calculate mean log loss over all train-test splits performed by cross_val_score\n",
    "    knn_neighbors_p1_log_loss = -1*cross_val_score(knn_neighbors_p1,\n",
    "                                                             X_train_scaled,\n",
    "                                                             y_train,\n",
    "                                                             scoring = 'neg_log_loss').mean()\n",
    "    # append resulting mean log loss to log_losses list\n",
    "    log_losses.append(knn_neighbors_p1_log_loss)\n",
    "    \n",
    "log_losses"
   ]
  },
  {
   "cell_type": "code",
   "execution_count": 62,
   "metadata": {},
   "outputs": [
    {
     "data": {
      "text/plain": [
       "17"
      ]
     },
     "execution_count": 62,
     "metadata": {},
     "output_type": "execute_result"
    }
   ],
   "source": [
    "# which number of neighbors minimizes log loss the most?\n",
    "\n",
    "k_values2[np.argmin(log_losses)]"
   ]
  },
  {
   "cell_type": "code",
   "execution_count": 64,
   "metadata": {},
   "outputs": [],
   "source": [
    "# import package to \"clone\" unfitted estimator with the same parameters\n",
    "from sklearn.base import clone # used later instead\n",
    "\n",
    "# select best kNN model\n",
    "best_knn_model = KNeighborsClassifier(n_neighbors = 17, p = 1)"
   ]
  },
  {
   "cell_type": "markdown",
   "metadata": {},
   "source": [
    "## 4. Build a Baseline Decision Tree Model\n",
    "\n",
    "Now that you have chosen your best kNN model, start investigating decision tree models. First, build and evaluate a baseline decision tree model, using default hyperparameters (with the exception of `random_state=42` for reproducibility).\n",
    "\n",
    "(Use cross-validated log loss, just like with the previous models.)"
   ]
  },
  {
   "cell_type": "code",
   "execution_count": 28,
   "metadata": {},
   "outputs": [
    {
     "data": {
      "text/plain": [
       "0.7045390124149022"
      ]
     },
     "execution_count": 28,
     "metadata": {},
     "output_type": "execute_result"
    }
   ],
   "source": [
    "# Your code here\n",
    "# import necessary packages\n",
    "from sklearn.tree import DecisionTreeClassifier\n",
    "\n",
    "# instantiate decision tree\n",
    "baseline_dt = DecisionTreeClassifier(random_state = 42)\n",
    "\n",
    "# cross validate on training data (X_train does not need to be scaled)\n",
    "baseline_score = -1*cross_val_score(baseline_dt,\n",
    "                                    X_train,\n",
    "                                    y_train,\n",
    "                                    scoring = 'neg_log_loss').mean()\n",
    "\n",
    "baseline_score"
   ]
  },
  {
   "cell_type": "markdown",
   "metadata": {},
   "source": [
    "Interpret this score. How does this compare to the log loss from our best logistic regression and best kNN models? Any guesses about why?"
   ]
  },
  {
   "cell_type": "code",
   "execution_count": null,
   "metadata": {},
   "outputs": [],
   "source": [
    "# Replace None with appropriate text\n",
    "\"\"\"\n",
    "This log loss is absolutely terrible compared to our best logistic regression and kNN models.\n",
    "I can't fathom why this would be the case. Could it be underfitting? Overfitting?\n",
    "\"\"\""
   ]
  },
  {
   "cell_type": "code",
   "execution_count": 31,
   "metadata": {},
   "outputs": [
    {
     "data": {
      "image/png": "[encoded data removed]",
      "text/plain": [
       "<Figure size 432x288 with 1 Axes>"
      ]
     },
     "metadata": {
      "needs_background": "light"
     },
     "output_type": "display_data"
    }
   ],
   "source": [
    "# Before we move on, I want to understand better why this tree is so bad\n",
    "# Let's import the package needed to plot the tree\n",
    "from sklearn.tree import plot_tree\n",
    "\n",
    "# I have to fit the tree to the training data in order to plot it; it won't be exactly the\n",
    "# same as the trees fit to the folds, but I think it will quickly give me an idea of what to\n",
    "# adjust\n",
    "baseline_dt.fit(X_train, y_train)\n",
    "\n",
    "# plot tree\n",
    "plot_tree(baseline_dt);"
   ]
  },
  {
   "cell_type": "markdown",
   "metadata": {},
   "source": [
    "As suspected, the tree is pretty dense! It is hard to see how many samples are remaining in each leaf, but I would guess that leaves with *more* samples would be more desirable. Let's try tuning the parameter `min_samples_leaf` to see if we can prune this tree to a more reasonable log-loss."
   ]
  },
  {
   "cell_type": "markdown",
   "metadata": {},
   "source": [
    "## 5. Build Iterative Models to Find the Best Decision Tree Model\n",
    "\n",
    "Build and evaluate at least two more decision tree models to find the best one. Explain why you are changing the hyperparameters you are changing as you go."
   ]
  },
  {
   "cell_type": "markdown",
   "metadata": {},
   "source": [
    "### Adjust Leaf Size"
   ]
  },
  {
   "cell_type": "code",
   "execution_count": 34,
   "metadata": {},
   "outputs": [
    {
     "data": {
      "text/plain": [
       "[0.16076367830299224,\n",
       " 0.11278679228111226,\n",
       " 0.1210069857263327,\n",
       " 0.142869032483025,\n",
       " 0.1565794051720158,\n",
       " 0.1916131426039682]"
      ]
     },
     "execution_count": 34,
     "metadata": {},
     "output_type": "execute_result"
    }
   ],
   "source": [
    "# Your code here (add more cells as needed)\n",
    "'''Let's first consider the case that our tree may be overfitting on the training folds. To\n",
    "remedy this, we will prune the tree by adjusting the parameter: min_samples_leaf'''\n",
    "\n",
    "# our training set contains 28,875 records; let's try setting to ~0.1%, 0.5%, 1%, 5%, 10%\n",
    "min_leaf_size = [30, 150, 300, 600, 1000, 3000] # threw 1000 in there for fun\n",
    "log_losses = []\n",
    "\n",
    "for size in min_leaf_size:\n",
    "    # instantiate a tree with the given min_leaf_size, size\n",
    "    dt_pruned = DecisionTreeClassifier(random_state = 42,\n",
    "                                      min_samples_leaf = size)\n",
    "    \n",
    "    # get the mean log loss for 5 fold cross validation\n",
    "    log_loss_pruned = -1*cross_val_score(dt_pruned,\n",
    "                                         X_train,\n",
    "                                         y_train,\n",
    "                                         scoring = 'neg_log_loss').mean()\n",
    "    \n",
    "    # store results\n",
    "    log_losses.append(log_loss_pruned)\n",
    "\n",
    "log_losses"
   ]
  },
  {
   "cell_type": "code",
   "execution_count": 35,
   "metadata": {},
   "outputs": [
    {
     "data": {
      "image/png": "[encoded data removed]",
      "text/plain": [
       "<Figure size 432x288 with 1 Axes>"
      ]
     },
     "metadata": {
      "needs_background": "light"
     },
     "output_type": "display_data"
    }
   ],
   "source": [
    "# let's quickly visualize the above\n",
    "\n",
    "fig, ax = plt.subplots()\n",
    "\n",
    "plt.plot(min_leaf_size, log_losses);"
   ]
  },
  {
   "cell_type": "code",
   "execution_count": 37,
   "metadata": {},
   "outputs": [
    {
     "data": {
      "text/plain": [
       "150"
      ]
     },
     "execution_count": 37,
     "metadata": {},
     "output_type": "execute_result"
    }
   ],
   "source": [
    "# find minimum leaf size which minimized log loss\n",
    "import numpy as np\n",
    "\n",
    "min_leaf_size[np.argmin(log_losses)]"
   ]
  },
  {
   "cell_type": "markdown",
   "metadata": {},
   "source": [
    "It's probably worth repeating the above with a range of values between 30 and 300, maybe every 10, to find the *best* min leaf size."
   ]
  },
  {
   "cell_type": "code",
   "execution_count": 56,
   "metadata": {},
   "outputs": [
    {
     "name": "stdout",
     "output_type": "stream",
     "text": [
      "Min_samples_leaf which minimizes log loss: 180\n"
     ]
    },
    {
     "data": {
      "image/png": "[encoded data removed]",
      "text/plain": [
       "<Figure size 432x288 with 1 Axes>"
      ]
     },
     "metadata": {
      "needs_background": "light"
     },
     "output_type": "display_data"
    }
   ],
   "source": [
    "# find best min leaf size\n",
    "\n",
    "min_leaf_size = list(range(30, 300, 10)) # 30 to 290 by 10s\n",
    "log_losses = []\n",
    "\n",
    "for size in min_leaf_size:\n",
    "    # instantiate a tree with the given min_leaf_size, size\n",
    "    dt_pruned = DecisionTreeClassifier(random_state = 42,\n",
    "                                      min_samples_leaf = size)\n",
    "    \n",
    "    # get the mean log loss for 5 fold cross validation\n",
    "    log_loss_pruned = -1*cross_val_score(dt_pruned,\n",
    "                                         X_train,\n",
    "                                         y_train,\n",
    "                                         scoring = 'neg_log_loss').mean()\n",
    "    \n",
    "    # store results\n",
    "    log_losses.append(log_loss_pruned)\n",
    "\n",
    "print(f'Min_samples_leaf which minimizes log loss: {min_leaf_size[np.argmin(log_losses)]}')\n",
    "\n",
    "# quickly visualize results\n",
    "\n",
    "fig, ax = plt.subplots()\n",
    "\n",
    "plt.plot(min_leaf_size, log_losses);"
   ]
  },
  {
   "cell_type": "markdown",
   "metadata": {},
   "source": [
    "### Adjust Max Depth (instead of Leaf Size)"
   ]
  },
  {
   "cell_type": "code",
   "execution_count": 46,
   "metadata": {},
   "outputs": [
    {
     "name": "stdout",
     "output_type": "stream",
     "text": [
      "Max depth which minimizes log loss: 5\n"
     ]
    },
    {
     "data": {
      "image/png": "[encoded data removed]",
      "text/plain": [
       "<Figure size 432x288 with 1 Axes>"
      ]
     },
     "metadata": {
      "needs_background": "light"
     },
     "output_type": "display_data"
    }
   ],
   "source": [
    "# Your code here (add more cells as needed)\n",
    "'''Now let's check out an alternative approach to pruning. Rather than adjusting the min leaf\n",
    "size, let's set a max depth based on how many splits we are willing to make. Exluding soil\n",
    "type, there are only 14 to 15 unique features in our dataset.'''\n",
    "\n",
    "# let's limit the depth to 5, 10, 15, 20, 25, ... up to 50 to reflect inclusion of more &\n",
    "# more features, so to speak (this doesn't work exactly, because you can split on the same\n",
    "# feature more than once with a decision tree, but it's something)\n",
    "depths = list(range(5, 55, 5))\n",
    "\n",
    "labels = [f'max_depth = {depth}' for depth in depths]\n",
    "\n",
    "log_losses = []\n",
    "\n",
    "for depth in depths:\n",
    "    # instantiate a tree with the given max_depth, depth; leave other parameters default\n",
    "    dt_max_depth = DecisionTreeClassifier(random_state = 42,\n",
    "                                      max_depth = depth)\n",
    "    \n",
    "    # get the mean log loss for 5 fold cross validation\n",
    "    log_loss_max_depth = -1*cross_val_score(dt_max_depth,\n",
    "                                         X_train,\n",
    "                                         y_train,\n",
    "                                         scoring = 'neg_log_loss').mean()\n",
    "    \n",
    "    # store results\n",
    "    log_losses.append(log_loss_max_depth)\n",
    "    \n",
    "print(f'Max depth which minimizes log loss: {depths[np.argmin(log_losses)]}')\n",
    "\n",
    "# quickly visualize results\n",
    "\n",
    "fig, ax = plt.subplots()\n",
    "\n",
    "plt.plot(depths, log_losses);"
   ]
  },
  {
   "cell_type": "markdown",
   "metadata": {},
   "source": [
    "So a maximum depth of 5 minimizes the log loss, out of the range I specified. Let's repeat the above with max depths from 1 to 5."
   ]
  },
  {
   "cell_type": "code",
   "execution_count": 47,
   "metadata": {},
   "outputs": [
    {
     "name": "stdout",
     "output_type": "stream",
     "text": [
      "Max depth which minimizes log loss: 5\n"
     ]
    },
    {
     "data": {
      "image/png": "[encoded data removed]",
      "text/plain": [
       "<Figure size 432x288 with 1 Axes>"
      ]
     },
     "metadata": {
      "needs_background": "light"
     },
     "output_type": "display_data"
    }
   ],
   "source": [
    "# is 5 the max depth which minimizes log loss, or should we make even fewer splits? (Which, to\n",
    "# me, would start to call the model into question due to lack of complexity...)\n",
    "depths = [1, 2, 3, 4, 5]\n",
    "\n",
    "labels = [f'max_depth = {depth}' for depth in depths]\n",
    "\n",
    "log_losses = []\n",
    "\n",
    "for depth in depths:\n",
    "    # instantiate a tree with the given max_depth, depth; leave other parameters default\n",
    "    dt_max_depth = DecisionTreeClassifier(random_state = 42,\n",
    "                                      max_depth = depth)\n",
    "    \n",
    "    # get the mean log loss for 5 fold cross validation\n",
    "    log_loss_max_depth = -1*cross_val_score(dt_max_depth,\n",
    "                                         X_train,\n",
    "                                         y_train,\n",
    "                                         scoring = 'neg_log_loss').mean()\n",
    "    \n",
    "    # store results\n",
    "    log_losses.append(log_loss_max_depth)\n",
    "    \n",
    "print(f'Max depth which minimizes log loss: {depths[np.argmin(log_losses)]}')\n",
    "\n",
    "# quickly visualize results\n",
    "\n",
    "fig, ax = plt.subplots()\n",
    "\n",
    "plt.plot(depths, log_losses);"
   ]
  },
  {
   "cell_type": "markdown",
   "metadata": {},
   "source": [
    "`max_depth` of 5 is the best. But `min_samples_leaf` of 180 is even better."
   ]
  },
  {
   "cell_type": "markdown",
   "metadata": {},
   "source": [
    "### Adjust Impurity Decrease (in place of Other Pruning Methods)"
   ]
  },
  {
   "cell_type": "code",
   "execution_count": 50,
   "metadata": {},
   "outputs": [
    {
     "name": "stdout",
     "output_type": "stream",
     "text": [
      "Min impurity decrease which minimizes log loss: 0.05\n"
     ]
    },
    {
     "data": {
      "image/png": "[encoded data removed]",
      "text/plain": [
       "<Figure size 432x288 with 1 Axes>"
      ]
     },
     "metadata": {
      "needs_background": "light"
     },
     "output_type": "display_data"
    }
   ],
   "source": [
    "# Your code here (add more cells as needed)\n",
    "'''Lastly, let's experiment with telling the tree to only split if it will produce an\n",
    "impurity decrease of some specific value or more. We may need to repeat this several times to\n",
    "find an adequate range for the parameter value.'''\n",
    "\n",
    "impurity_decreases = np.linspace(0, 1, 21) # 0 should be default\n",
    "\n",
    "log_losses = []\n",
    "\n",
    "for decrease in impurity_decreases:\n",
    "    # instantiate a tree with the given min_impurity_decrease; leave other parameters default\n",
    "    dt_impurity = DecisionTreeClassifier(random_state = 42,\n",
    "                                      min_impurity_decrease = decrease)\n",
    "    \n",
    "    # get the mean log loss for 5 fold cross validation\n",
    "    log_loss_impurity = -1*cross_val_score(dt_impurity,\n",
    "                                         X_train,\n",
    "                                         y_train,\n",
    "                                         scoring = 'neg_log_loss').mean()\n",
    "    \n",
    "    # store results\n",
    "    log_losses.append(log_loss_impurity)\n",
    "    \n",
    "print(f'Min impurity decrease which minimizes log loss: {impurity_decreases[np.argmin(log_losses)]}')\n",
    "\n",
    "# quickly visualize results\n",
    "\n",
    "fig, ax = plt.subplots()\n",
    "\n",
    "plt.plot(impurity_decreases, log_losses);"
   ]
  },
  {
   "cell_type": "code",
   "execution_count": 53,
   "metadata": {},
   "outputs": [
    {
     "data": {
      "image/png": "[encoded data removed]",
      "text/plain": [
       "<Figure size 432x288 with 1 Axes>"
      ]
     },
     "metadata": {
      "needs_background": "light"
     },
     "output_type": "display_data"
    }
   ],
   "source": [
    "# quickly check: does the best tree above actually do anything other than guessing once?\n",
    "\n",
    "# clone best model\n",
    "best_decision_tree = clone(dt_impurity)\n",
    "\n",
    "# fit to training data\n",
    "best_decision_tree.fit(X_train, y_train)\n",
    "\n",
    "# plot\n",
    "plot_tree(best_decision_tree);"
   ]
  },
  {
   "cell_type": "markdown",
   "metadata": {},
   "source": [
    "Yep. The \"best\" decision tree doesn't make any decisions at all! It just guesses the majority."
   ]
  },
  {
   "cell_type": "code",
   "execution_count": 55,
   "metadata": {},
   "outputs": [
    {
     "data": {
      "image/png": "[encoded data removed]",
      "text/plain": [
       "<Figure size 432x288 with 1 Axes>"
      ]
     },
     "metadata": {
      "needs_background": "light"
     },
     "output_type": "display_data"
    }
   ],
   "source": [
    "# use min_samples_leaf for best model instead\n",
    "\n",
    "best_decision_tree = DecisionTreeClassifier(random_state = 42,\n",
    "                                      min_samples_leaf = size)\n",
    "\n",
    "# fit to training data & plot, just to check\n",
    "\n",
    "best_decision_tree.fit(X_train, y_train)\n",
    "\n",
    "plot_tree(best_decision_tree);"
   ]
  },
  {
   "cell_type": "markdown",
   "metadata": {},
   "source": [
    "A little more complex - looks better!"
   ]
  },
  {
   "cell_type": "markdown",
   "metadata": {},
   "source": [
    "## 6. Choose and Evaluate an Overall Best Model\n",
    "\n",
    "Which model had the best performance? What type of model was it?\n",
    "\n",
    "Instantiate a variable `final_model` using your best model with the best hyperparameters."
   ]
  },
  {
   "cell_type": "code",
   "execution_count": 57,
   "metadata": {},
   "outputs": [
    {
     "name": "stdout",
     "output_type": "stream",
     "text": [
      "kNN best log loss: 0.061214951514946325\n",
      "Decision tree best log loss: 0.12016541764448559\n"
     ]
    }
   ],
   "source": [
    "# was knn or decision tree best model the best?\n",
    "\n",
    "knn_score = -1*cross_val_score(best_knn_model,\n",
    "                               X_train_scaled,\n",
    "                               y_train,\n",
    "                               scoring = 'neg_log_loss').mean()\n",
    "\n",
    "dt_score = -1*cross_val_score(best_decision_tree,\n",
    "                               X_train,\n",
    "                               y_train,\n",
    "                               scoring = 'neg_log_loss').mean()\n",
    "\n",
    "print(f'kNN best log loss: {knn_score}')\n",
    "print(f'Decision tree best log loss: {dt_score}')"
   ]
  },
  {
   "cell_type": "markdown",
   "metadata": {},
   "source": [
    "kNN is better by a long shot!"
   ]
  },
  {
   "cell_type": "code",
   "execution_count": 58,
   "metadata": {},
   "outputs": [
    {
     "data": {
      "text/plain": [
       "KNeighborsClassifier(n_neighbors=19, p=1)"
      ]
     },
     "execution_count": 58,
     "metadata": {},
     "output_type": "execute_result"
    }
   ],
   "source": [
    "# Replace None with appropriate code\n",
    "final_model = clone(best_knn_model)\n",
    "\n",
    "# Fit the model on the full training data\n",
    "# (scaled or unscaled depending on the model)\n",
    "final_model.fit(X_train_scaled, y_train)"
   ]
  },
  {
   "cell_type": "markdown",
   "metadata": {},
   "source": [
    "Now, evaluate the log loss, accuracy, precision, and recall. This code is mostly filled in for you, but you need to replace `None` with either `X_test` or `X_test_scaled` depending on the model you chose."
   ]
  },
  {
   "cell_type": "code",
   "execution_count": 60,
   "metadata": {},
   "outputs": [
    {
     "name": "stdout",
     "output_type": "stream",
     "text": [
      "log loss:  0.06448869420648831\n",
      "accuracy:  0.9779763141491793\n",
      "precision: 0.9018612521150592\n",
      "recall:    0.7758369723435226\n"
     ]
    }
   ],
   "source": [
    "# Replace None with appropriate code\n",
    "from sklearn.metrics import accuracy_score, precision_score, recall_score, log_loss\n",
    "\n",
    "preds = final_model.predict(X_test_scaled)\n",
    "probs = final_model.predict_proba(X_test_scaled)\n",
    "\n",
    "print(\"log loss: \", log_loss(y_test, probs))\n",
    "print(\"accuracy: \", accuracy_score(y_test, preds))\n",
    "print(\"precision:\", precision_score(y_test, preds))\n",
    "print(\"recall:   \", recall_score(y_test, preds))"
   ]
  },
  {
   "cell_type": "markdown",
   "metadata": {},
   "source": [
    "Interpret your model performance. How would it perform on different kinds of tasks? How much better is it than a \"dummy\" model that always chooses the majority class, or the logistic regression described at the start of the lab?"
   ]
  },
  {
   "cell_type": "code",
   "execution_count": null,
   "metadata": {},
   "outputs": [],
   "source": [
    "# Replace None with appropriate text\n",
    "\"\"\"\n",
    "See below\n",
    "\"\"\""
   ]
  },
  {
   "cell_type": "markdown",
   "metadata": {},
   "source": [
    "The log loss of the final model on the testing set is 0.0644, similar to the mean log loss of 0.0612 of the model on the cross validation folds of the training set. This seems promising that it is not an overfit model. The accuracy of the model is 97.798%, an improvement over the ~92% accuracy of a dummy model that always chooses the majority class *and* and improvement over the accuracy of our previous logistic regression model, 94.567%. The precision of the model is 90.186%; about 90% of predictions made by the model of the more rare species of tree are correct. The recall, on the other hand, is only 77.584%; the model is missing a little more than 20% of the cottonwood / willow trees in the dataset. This is not promising if the whole purpose of the model is to locate areas with the more rare species of tree. We would want to improve recall of the cottonwood / willow trees somehow, even at the expense of precision."
   ]
  },
  {
   "cell_type": "markdown",
   "metadata": {},
   "source": [
    "## Conclusion\n",
    "\n",
    "In this lab, you practiced the end-to-end machine learning process with multiple model algorithms, including tuning the hyperparameters for those different algorithms. You saw how nonparametric models can be more flexible than linear models, potentially leading to overfitting but also potentially reducing underfitting by being able to learn non-linear relationships between variables. You also likely saw how there can be a tradeoff between speed and performance, with good metrics correlating with slow speeds."
   ]
  }
 ],
 "metadata": {
  "kernelspec": {
   "display_name": "Python (learn-env)",
   "language": "python",
   "name": "learn-env"
  },
  "language_info": {
   "codemirror_mode": {
    "name": "ipython",
    "version": 3
   },
   "file_extension": ".py",
   "mimetype": "text/x-python",
   "name": "python",
   "nbconvert_exporter": "python",
   "pygments_lexer": "ipython3",
   "version": "3.8.5"
  },
  "toc": {
   "base_numbering": 1,
   "nav_menu": {},
   "number_sections": true,
   "sideBar": true,
   "skip_h1_title": false,
   "title_cell": "Table of Contents",
   "title_sidebar": "Contents",
   "toc_cell": false,
   "toc_position": {},
   "toc_section_display": true,
   "toc_window_display": false
  }
 },
 "nbformat": 4,
 "nbformat_minor": 4
}
